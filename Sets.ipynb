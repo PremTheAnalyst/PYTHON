{
 "cells": [
  {
   "cell_type": "code",
   "execution_count": 1,
   "id": "84a4698a",
   "metadata": {},
   "outputs": [],
   "source": [
    "# SETS "
   ]
  },
  {
   "cell_type": "code",
   "execution_count": 2,
   "id": "8718f683",
   "metadata": {},
   "outputs": [],
   "source": [
    "#Sets do not contain duplicate values\n",
    "#Sets are unchangeable\n",
    "#Unordered collection of data"
   ]
  },
  {
   "cell_type": "code",
   "execution_count": 3,
   "id": "c9cc171b",
   "metadata": {},
   "outputs": [
    {
     "name": "stdout",
     "output_type": "stream",
     "text": [
      "{2, 5, 7, 8, 9}\n"
     ]
    }
   ],
   "source": [
    "s={2,5,7,8,9,2,2}\n",
    "print(s)"
   ]
  },
  {
   "cell_type": "code",
   "execution_count": 4,
   "id": "2466415c",
   "metadata": {},
   "outputs": [
    {
     "name": "stdout",
     "output_type": "stream",
     "text": [
      "{False, 1.1, 3, 'prem'}\n"
     ]
    }
   ],
   "source": [
    "info={'prem',3,3,3,1.1,False}\n",
    "print(info)"
   ]
  },
  {
   "cell_type": "code",
   "execution_count": 7,
   "id": "ebfea812",
   "metadata": {},
   "outputs": [
    {
     "data": {
      "text/plain": [
       "dict"
      ]
     },
     "execution_count": 7,
     "metadata": {},
     "output_type": "execute_result"
    }
   ],
   "source": [
    "prem={}\n",
    "type(prem)"
   ]
  },
  {
   "cell_type": "code",
   "execution_count": 8,
   "id": "59473c2c",
   "metadata": {},
   "outputs": [],
   "source": [
    "#I wanted to create en empty set but it became a dictionary"
   ]
  },
  {
   "cell_type": "code",
   "execution_count": 9,
   "id": "6de98163",
   "metadata": {},
   "outputs": [
    {
     "name": "stdout",
     "output_type": "stream",
     "text": [
      "<class 'set'>\n"
     ]
    }
   ],
   "source": [
    "prem=set()\n",
    "print(type(prem))"
   ]
  },
  {
   "cell_type": "code",
   "execution_count": 10,
   "id": "f0a390fe",
   "metadata": {},
   "outputs": [],
   "source": [
    "#Now it's an empty set"
   ]
  }
 ],
 "metadata": {
  "kernelspec": {
   "display_name": "Python 3 (ipykernel)",
   "language": "python",
   "name": "python3"
  },
  "language_info": {
   "codemirror_mode": {
    "name": "ipython",
    "version": 3
   },
   "file_extension": ".py",
   "mimetype": "text/x-python",
   "name": "python",
   "nbconvert_exporter": "python",
   "pygments_lexer": "ipython3",
   "version": "3.9.7"
  }
 },
 "nbformat": 4,
 "nbformat_minor": 5
}
