{
 "cells": [
  {
   "cell_type": "code",
   "execution_count": 19,
   "id": "02919383",
   "metadata": {},
   "outputs": [],
   "source": [
    "# Formatted strings"
   ]
  },
  {
   "cell_type": "code",
   "execution_count": 20,
   "id": "aca4a060",
   "metadata": {},
   "outputs": [],
   "source": [
    "name=\"Prem\"\n",
    "country=\"India\""
   ]
  },
  {
   "cell_type": "code",
   "execution_count": 22,
   "id": "43b6b632",
   "metadata": {},
   "outputs": [
    {
     "name": "stdout",
     "output_type": "stream",
     "text": [
      "Hey my name is Prem and i belong to India\n"
     ]
    }
   ],
   "source": [
    "print(f\"Hey my name is {name} and i belong to {country}\")"
   ]
  },
  {
   "cell_type": "code",
   "execution_count": 23,
   "id": "236c89d4",
   "metadata": {},
   "outputs": [
    {
     "name": "stdout",
     "output_type": "stream",
     "text": [
      "prem\n"
     ]
    }
   ],
   "source": [
    "name=input()"
   ]
  },
  {
   "cell_type": "code",
   "execution_count": 24,
   "id": "5b3452d8",
   "metadata": {},
   "outputs": [
    {
     "name": "stdout",
     "output_type": "stream",
     "text": [
      "Please enter your name\n",
      "prem\n",
      "Please enter your country\n",
      "india\n"
     ]
    }
   ],
   "source": [
    "print(\"Please enter your name\")\n",
    "name=input()\n",
    "print(\"Please enter your country\")\n",
    "country=input()"
   ]
  },
  {
   "cell_type": "code",
   "execution_count": 25,
   "id": "6ad0f331",
   "metadata": {},
   "outputs": [
    {
     "name": "stdout",
     "output_type": "stream",
     "text": [
      "Please enter your name\n",
      "Prem\n",
      "Please enter your country\n",
      "India\n",
      "Hey my name is Prem and i belong to India\n"
     ]
    }
   ],
   "source": [
    "print(\"Please enter your name\")\n",
    "name=input()\n",
    "print(\"Please enter your country\")\n",
    "country=input()\n",
    "print(f\"Hey my name is {name} and i belong to {country}\")"
   ]
  },
  {
   "cell_type": "code",
   "execution_count": 26,
   "id": "49670d18",
   "metadata": {},
   "outputs": [
    {
     "name": "stdout",
     "output_type": "stream",
     "text": [
      "Please enter your name\n",
      "hitlala\n",
      "Please enter your country\n",
      "simra\n",
      "Hey my name is hitlala and i belong to simra\n"
     ]
    }
   ],
   "source": [
    "print(\"Please enter your name\")\n",
    "name=input()\n",
    "print(\"Please enter your country\")\n",
    "country=input()\n",
    "print(f\"Hey my name is {name} and i belong to {country}\")"
   ]
  },
  {
   "cell_type": "code",
   "execution_count": 27,
   "id": "3c4aa25f",
   "metadata": {},
   "outputs": [
    {
     "name": "stdout",
     "output_type": "stream",
     "text": [
      "This article is for only  69.10\n"
     ]
    }
   ],
   "source": [
    "price=69.099999\n",
    "tx=f\"This article is for only {price: .2f}\"\n",
    "print(tx)"
   ]
  },
  {
   "cell_type": "code",
   "execution_count": 28,
   "id": "c5c03d37",
   "metadata": {},
   "outputs": [],
   "source": [
    "#see this .2f formatted the price to only two decimal places."
   ]
  },
  {
   "cell_type": "code",
   "execution_count": 29,
   "id": "750bf453",
   "metadata": {},
   "outputs": [
    {
     "name": "stdout",
     "output_type": "stream",
     "text": [
      "This is an example of f-string: Hey my name is {name} and i belong to {country}\n"
     ]
    }
   ],
   "source": [
    "#using two curly braces print exactly the same string without replacing the values\n",
    "print(f\"This is an example of f-string: Hey my name is {{name}} and i belong to {{country}}\")"
   ]
  },
  {
   "cell_type": "code",
   "execution_count": null,
   "id": "75dfc22a",
   "metadata": {},
   "outputs": [],
   "source": []
  }
 ],
 "metadata": {
  "kernelspec": {
   "display_name": "Python 3 (ipykernel)",
   "language": "python",
   "name": "python3"
  },
  "language_info": {
   "codemirror_mode": {
    "name": "ipython",
    "version": 3
   },
   "file_extension": ".py",
   "mimetype": "text/x-python",
   "name": "python",
   "nbconvert_exporter": "python",
   "pygments_lexer": "ipython3",
   "version": "3.9.7"
  }
 },
 "nbformat": 4,
 "nbformat_minor": 5
}
