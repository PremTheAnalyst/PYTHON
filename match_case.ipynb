{
 "cells": [
  {
   "cell_type": "code",
   "execution_count": 15,
   "id": "298512bc",
   "metadata": {},
   "outputs": [
    {
     "name": "stdout",
     "output_type": "stream",
     "text": [
      "Please enter a number:90\n"
     ]
    }
   ],
   "source": [
    "#match case statements in python \n",
    "\n",
    "x = int(input(\"Please enter a number:\"))\n",
    "match x:\n",
    "    case 0:\n",
    "        print('x is zero')\n",
    "    case 5:\n",
    "        print('x is five')\n",
    "    case _ if x!=90:\n",
    "        #you can also use if else statements in match case\n",
    "        print('x is not 90')\n",
    "    case _ if x==100:\n",
    "        print('Yeahh century')\n",
    "    case _:\n",
    "        #this is the default case\n",
    "        print(x)\n",
    "    "
   ]
  }
 ],
 "metadata": {
  "kernelspec": {
   "display_name": "Python 3 (ipykernel)",
   "language": "python",
   "name": "python3"
  },
  "language_info": {
   "codemirror_mode": {
    "name": "ipython",
    "version": 3
   },
   "file_extension": ".py",
   "mimetype": "text/x-python",
   "name": "python",
   "nbconvert_exporter": "python",
   "pygments_lexer": "ipython3",
   "version": "3.9.7"
  }
 },
 "nbformat": 4,
 "nbformat_minor": 5
}
