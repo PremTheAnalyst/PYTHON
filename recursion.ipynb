{
 "cells": [
  {
   "cell_type": "code",
   "execution_count": 1,
   "id": "b01ff331",
   "metadata": {},
   "outputs": [],
   "source": [
    "#RECURSION"
   ]
  },
  {
   "cell_type": "code",
   "execution_count": 2,
   "id": "234a9b9a",
   "metadata": {},
   "outputs": [],
   "source": [
    "#inside the function, calling of the same function repetitively\n",
    "# process of defining something in terms of itself."
   ]
  },
  {
   "cell_type": "code",
   "execution_count": 3,
   "id": "843771a5",
   "metadata": {},
   "outputs": [],
   "source": [
    "def factorial(n):\n",
    "    if(n==0 or n==1):\n",
    "        return 1\n",
    "    else:\n",
    "        return n*factorial(n-1)"
   ]
  },
  {
   "cell_type": "code",
   "execution_count": 4,
   "id": "7128b99b",
   "metadata": {},
   "outputs": [
    {
     "data": {
      "text/plain": [
       "6"
      ]
     },
     "execution_count": 4,
     "metadata": {},
     "output_type": "execute_result"
    }
   ],
   "source": [
    "factorial(3)"
   ]
  },
  {
   "cell_type": "code",
   "execution_count": 5,
   "id": "60e8731c",
   "metadata": {},
   "outputs": [
    {
     "data": {
      "text/plain": [
       "24"
      ]
     },
     "execution_count": 5,
     "metadata": {},
     "output_type": "execute_result"
    }
   ],
   "source": [
    "factorial(4)"
   ]
  },
  {
   "cell_type": "code",
   "execution_count": 6,
   "id": "f2b9d2dd",
   "metadata": {},
   "outputs": [
    {
     "data": {
      "text/plain": [
       "120"
      ]
     },
     "execution_count": 6,
     "metadata": {},
     "output_type": "execute_result"
    }
   ],
   "source": [
    "factorial(5)"
   ]
  },
  {
   "cell_type": "code",
   "execution_count": 7,
   "id": "8343a68b",
   "metadata": {},
   "outputs": [],
   "source": [
    "# FIBONACCI SERIES"
   ]
  },
  {
   "cell_type": "code",
   "execution_count": 8,
   "id": "2c1cf173",
   "metadata": {},
   "outputs": [
    {
     "data": {
      "text/plain": [
       "'f0=1\\nf1=1\\nf2=f1+f0\\nfn=fn-1 + fn-2'"
      ]
     },
     "execution_count": 8,
     "metadata": {},
     "output_type": "execute_result"
    }
   ],
   "source": [
    "'''f0=1\n",
    "f1=1\n",
    "f2=f1+f0\n",
    "fn=fn-1 + fn-2'''"
   ]
  },
  {
   "cell_type": "code",
   "execution_count": null,
   "id": "33e28836",
   "metadata": {},
   "outputs": [],
   "source": []
  }
 ],
 "metadata": {
  "kernelspec": {
   "display_name": "Python 3 (ipykernel)",
   "language": "python",
   "name": "python3"
  },
  "language_info": {
   "codemirror_mode": {
    "name": "ipython",
    "version": 3
   },
   "file_extension": ".py",
   "mimetype": "text/x-python",
   "name": "python",
   "nbconvert_exporter": "python",
   "pygments_lexer": "ipython3",
   "version": "3.9.7"
  }
 },
 "nbformat": 4,
 "nbformat_minor": 5
}
