{
 "cells": [
  {
   "cell_type": "markdown",
   "id": "a4325b19",
   "metadata": {},
   "source": [
    "# DOCSTRINGS"
   ]
  },
  {
   "cell_type": "code",
   "execution_count": 30,
   "id": "0b8a6659",
   "metadata": {},
   "outputs": [],
   "source": [
    "#Let's learn about Docstings in python"
   ]
  },
  {
   "cell_type": "code",
   "execution_count": 31,
   "id": "b320ee13",
   "metadata": {},
   "outputs": [],
   "source": [
    "#String literals that appears just after defining a function,methods, class or module\n"
   ]
  },
  {
   "cell_type": "code",
   "execution_count": 32,
   "id": "c1eabc67",
   "metadata": {},
   "outputs": [],
   "source": [
    "#Declaring Docstrings: The docstrings are declared using ”’triple single quotes”’ or “””triple double quotes””” \n",
    "#just below the class, method or function declaration. All functions should have a docstring."
   ]
  },
  {
   "cell_type": "code",
   "execution_count": 42,
   "id": "34d8450a",
   "metadata": {},
   "outputs": [],
   "source": [
    "\n",
    "def squar(n):\n",
    "    '''Takes in a number n,\n",
    "    returns the square of n////this is a docstring///'''\n",
    "    \n",
    "    print(n**2)\n",
    "    \n",
    "\n"
   ]
  },
  {
   "cell_type": "code",
   "execution_count": 43,
   "id": "eee05bad",
   "metadata": {},
   "outputs": [
    {
     "name": "stdout",
     "output_type": "stream",
     "text": [
      "81\n"
     ]
    }
   ],
   "source": [
    "squar(9)"
   ]
  },
  {
   "cell_type": "code",
   "execution_count": 44,
   "id": "4f4c1807",
   "metadata": {},
   "outputs": [
    {
     "name": "stdout",
     "output_type": "stream",
     "text": [
      "Takes in a number n,\n",
      "    returns the square of n////this is a docstring///\n"
     ]
    }
   ],
   "source": [
    "print(squar.__doc__)"
   ]
  },
  {
   "cell_type": "code",
   "execution_count": 45,
   "id": "47f7ea2e",
   "metadata": {},
   "outputs": [
    {
     "name": "stdout",
     "output_type": "stream",
     "text": [
      "The Zen of Python, by Tim Peters\n",
      "\n",
      "Beautiful is better than ugly.\n",
      "Explicit is better than implicit.\n",
      "Simple is better than complex.\n",
      "Complex is better than complicated.\n",
      "Flat is better than nested.\n",
      "Sparse is better than dense.\n",
      "Readability counts.\n",
      "Special cases aren't special enough to break the rules.\n",
      "Although practicality beats purity.\n",
      "Errors should never pass silently.\n",
      "Unless explicitly silenced.\n",
      "In the face of ambiguity, refuse the temptation to guess.\n",
      "There should be one-- and preferably only one --obvious way to do it.\n",
      "Although that way may not be obvious at first unless you're Dutch.\n",
      "Now is better than never.\n",
      "Although never is often better than *right* now.\n",
      "If the implementation is hard to explain, it's a bad idea.\n",
      "If the implementation is easy to explain, it may be a good idea.\n",
      "Namespaces are one honking great idea -- let's do more of those!\n"
     ]
    }
   ],
   "source": [
    "import this"
   ]
  },
  {
   "cell_type": "code",
   "execution_count": 46,
   "id": "5626bb30",
   "metadata": {},
   "outputs": [],
   "source": [
    "#The above thing is called zen of python\n"
   ]
  },
  {
   "cell_type": "code",
   "execution_count": null,
   "id": "9dda5cee",
   "metadata": {},
   "outputs": [],
   "source": []
  }
 ],
 "metadata": {
  "kernelspec": {
   "display_name": "Python 3 (ipykernel)",
   "language": "python",
   "name": "python3"
  },
  "language_info": {
   "codemirror_mode": {
    "name": "ipython",
    "version": 3
   },
   "file_extension": ".py",
   "mimetype": "text/x-python",
   "name": "python",
   "nbconvert_exporter": "python",
   "pygments_lexer": "ipython3",
   "version": "3.9.7"
  }
 },
 "nbformat": 4,
 "nbformat_minor": 5
}
