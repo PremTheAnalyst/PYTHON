{
 "cells": [
  {
   "cell_type": "code",
   "execution_count": 1,
   "id": "1aceb2f9",
   "metadata": {},
   "outputs": [],
   "source": [
    "# LIST data type"
   ]
  },
  {
   "cell_type": "code",
   "execution_count": 3,
   "id": "b461f015",
   "metadata": {},
   "outputs": [
    {
     "name": "stdout",
     "output_type": "stream",
     "text": [
      "3\n"
     ]
    }
   ],
   "source": [
    "marks=[1,2,3,\"prem\",True]\n",
    "print(marks[-3])\n",
    "#marks -3 means len(marks)-3= 5-3 =2 which means index 2 gets printed"
   ]
  },
  {
   "cell_type": "code",
   "execution_count": 5,
   "id": "f3e47135",
   "metadata": {},
   "outputs": [
    {
     "name": "stdout",
     "output_type": "stream",
     "text": [
      "[True, 'prem', 3, 2, 1]\n"
     ]
    }
   ],
   "source": [
    "print(marks[::-1])"
   ]
  },
  {
   "cell_type": "code",
   "execution_count": 6,
   "id": "275d03be",
   "metadata": {},
   "outputs": [
    {
     "name": "stdout",
     "output_type": "stream",
     "text": [
      "[1, 2, 3, 'prem', True]\n"
     ]
    }
   ],
   "source": [
    "print(marks[:7])"
   ]
  },
  {
   "cell_type": "code",
   "execution_count": 7,
   "id": "54761e86",
   "metadata": {},
   "outputs": [
    {
     "name": "stdout",
     "output_type": "stream",
     "text": [
      "[1, 2, 3, 'prem']\n"
     ]
    }
   ],
   "source": [
    "print(marks[:-1])"
   ]
  },
  {
   "cell_type": "code",
   "execution_count": 9,
   "id": "3595ab58",
   "metadata": {},
   "outputs": [
    {
     "name": "stdout",
     "output_type": "stream",
     "text": [
      "[2, 'prem']\n"
     ]
    }
   ],
   "source": [
    "print(marks[1:4:2])\n",
    "#prints in interval of 2"
   ]
  },
  {
   "cell_type": "code",
   "execution_count": 10,
   "id": "84310c18",
   "metadata": {},
   "outputs": [
    {
     "name": "stdout",
     "output_type": "stream",
     "text": [
      "[1, 3, 5, 7, 9]\n"
     ]
    }
   ],
   "source": [
    "nubs=[1,2,3,4,5,6,7,8,9,10]\n",
    "print(nubs[::2])"
   ]
  },
  {
   "cell_type": "code",
   "execution_count": 11,
   "id": "4517b938",
   "metadata": {},
   "outputs": [
    {
     "name": "stdout",
     "output_type": "stream",
     "text": [
      "[1, 4, 7, 10]\n"
     ]
    }
   ],
   "source": [
    "print(nubs[::3])\n",
    "#prints in interval of 3"
   ]
  },
  {
   "cell_type": "code",
   "execution_count": 17,
   "id": "cae6197e",
   "metadata": {},
   "outputs": [
    {
     "name": "stdout",
     "output_type": "stream",
     "text": [
      "please enter a number\n",
      "1\n",
      "yes\n"
     ]
    }
   ],
   "source": [
    "nubs=[1,2,3,4,5,6,7,8,9,10]\n",
    "print(\"please enter a number\")\n",
    "i=int(input())\n",
    "if i in nubs:\n",
    "    print(\"yes\")\n",
    "else:\n",
    "    print(\"no\")"
   ]
  },
  {
   "cell_type": "code",
   "execution_count": 20,
   "id": "c046d161",
   "metadata": {},
   "outputs": [
    {
     "name": "stdout",
     "output_type": "stream",
     "text": [
      "please enter a number\n",
      "11\n",
      "no\n"
     ]
    }
   ],
   "source": [
    "nubs=[1,2,3,4,5,6,7,8,9,10]\n",
    "print(\"please enter a number\")\n",
    "i=int(input())\n",
    "if i in nubs:\n",
    "    print(\"yes\")\n",
    "else:\n",
    "    print(\"no\")"
   ]
  },
  {
   "cell_type": "code",
   "execution_count": 23,
   "id": "76b5a20e",
   "metadata": {},
   "outputs": [
    {
     "name": "stdout",
     "output_type": "stream",
     "text": [
      "[0, 1, 4, 9, 16, 25, 36, 49, 64, 81, 100]\n"
     ]
    }
   ],
   "source": [
    "#list comprehension\n",
    "lst=[i*i for i in range(11)]\n",
    "print(lst)"
   ]
  },
  {
   "cell_type": "code",
   "execution_count": 24,
   "id": "9c10adcd",
   "metadata": {},
   "outputs": [
    {
     "name": "stdout",
     "output_type": "stream",
     "text": [
      "[0, 4, 16, 36, 64, 100]\n"
     ]
    }
   ],
   "source": [
    "#list comprehension\n",
    "lst=[i*i for i in range(11) if i%2==0]\n",
    "print(lst)"
   ]
  },
  {
   "cell_type": "code",
   "execution_count": null,
   "id": "8fb4101b",
   "metadata": {},
   "outputs": [],
   "source": []
  }
 ],
 "metadata": {
  "kernelspec": {
   "display_name": "Python 3 (ipykernel)",
   "language": "python",
   "name": "python3"
  },
  "language_info": {
   "codemirror_mode": {
    "name": "ipython",
    "version": 3
   },
   "file_extension": ".py",
   "mimetype": "text/x-python",
   "name": "python",
   "nbconvert_exporter": "python",
   "pygments_lexer": "ipython3",
   "version": "3.9.7"
  }
 },
 "nbformat": 4,
 "nbformat_minor": 5
}
