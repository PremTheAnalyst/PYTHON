{
 "cells": [
  {
   "cell_type": "code",
   "execution_count": 1,
   "id": "2aac3b73",
   "metadata": {},
   "outputs": [],
   "source": [
    "def average(a,b,c=1):\n",
    "    print(\"The average of the three numbers is:\", (a+b+c)/3)"
   ]
  },
  {
   "cell_type": "code",
   "execution_count": 2,
   "id": "57a933f3",
   "metadata": {},
   "outputs": [
    {
     "name": "stdout",
     "output_type": "stream",
     "text": [
      "The average of the three numbers is: 37.0\n"
     ]
    }
   ],
   "source": [
    "average(10,100)"
   ]
  },
  {
   "cell_type": "code",
   "execution_count": 3,
   "id": "89c98041",
   "metadata": {},
   "outputs": [
    {
     "name": "stdout",
     "output_type": "stream",
     "text": [
      "The average of the three numbers is: 372.0\n"
     ]
    }
   ],
   "source": [
    "average(1111,1,4)"
   ]
  },
  {
   "cell_type": "code",
   "execution_count": 4,
   "id": "4873bd2a",
   "metadata": {},
   "outputs": [
    {
     "ename": "TypeError",
     "evalue": "average() missing 1 required positional argument: 'b'",
     "output_type": "error",
     "traceback": [
      "\u001b[0;31m---------------------------------------------------------------------------\u001b[0m",
      "\u001b[0;31mTypeError\u001b[0m                                 Traceback (most recent call last)",
      "\u001b[0;32m/var/folders/f2/54rrf37j31nb8823kz1zs5mh0000gn/T/ipykernel_41949/3694218032.py\u001b[0m in \u001b[0;36m<module>\u001b[0;34m\u001b[0m\n\u001b[0;32m----> 1\u001b[0;31m \u001b[0maverage\u001b[0m\u001b[0;34m(\u001b[0m\u001b[0;36m1\u001b[0m\u001b[0;34m)\u001b[0m\u001b[0;34m\u001b[0m\u001b[0;34m\u001b[0m\u001b[0m\n\u001b[0m",
      "\u001b[0;31mTypeError\u001b[0m: average() missing 1 required positional argument: 'b'"
     ]
    }
   ],
   "source": [
    "average(1)"
   ]
  },
  {
   "cell_type": "code",
   "execution_count": 7,
   "id": "d2e76329",
   "metadata": {},
   "outputs": [],
   "source": [
    "#error because we didnt provide the argument b\n",
    "# a and b are the required arguments\n",
    "# order of a,b,c should be kept in mind"
   ]
  },
  {
   "cell_type": "code",
   "execution_count": 9,
   "id": "05c4df93",
   "metadata": {},
   "outputs": [
    {
     "name": "stdout",
     "output_type": "stream",
     "text": [
      "The average of the three numbers is: 1.3333333333333333\n"
     ]
    }
   ],
   "source": [
    "average(b=1,a=2)\n",
    "#but in this case order of a,b,c can be changed"
   ]
  },
  {
   "cell_type": "code",
   "execution_count": 10,
   "id": "03ab97e0",
   "metadata": {},
   "outputs": [],
   "source": [
    "#if we do not want to restrict the number of arguments we provide to the function\n",
    "#then we can do this \n",
    "def average(*numbers):\n",
    "    sum=0\n",
    "    for i in numbers:\n",
    "        sum=sum+i\n",
    "    print(\"Average is:\", sum/len(numbers))"
   ]
  },
  {
   "cell_type": "code",
   "execution_count": 11,
   "id": "a1deb2ab",
   "metadata": {},
   "outputs": [
    {
     "name": "stdout",
     "output_type": "stream",
     "text": [
      "Average is: 3.0\n"
     ]
    }
   ],
   "source": [
    "average(1,2,3,4,5)"
   ]
  }
 ],
 "metadata": {
  "kernelspec": {
   "display_name": "Python 3 (ipykernel)",
   "language": "python",
   "name": "python3"
  },
  "language_info": {
   "codemirror_mode": {
    "name": "ipython",
    "version": 3
   },
   "file_extension": ".py",
   "mimetype": "text/x-python",
   "name": "python",
   "nbconvert_exporter": "python",
   "pygments_lexer": "ipython3",
   "version": "3.9.7"
  }
 },
 "nbformat": 4,
 "nbformat_minor": 5
}
