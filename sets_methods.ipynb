{
 "cells": [
  {
   "cell_type": "code",
   "execution_count": 1,
   "id": "dbf745be",
   "metadata": {},
   "outputs": [],
   "source": [
    "# SETS "
   ]
  },
  {
   "cell_type": "code",
   "execution_count": 2,
   "id": "71cfea1b",
   "metadata": {},
   "outputs": [],
   "source": [
    "#Sets do not contain duplicate values\n",
    "#Sets are unchangeable\n",
    "#Unordered collection of data"
   ]
  },
  {
   "cell_type": "code",
   "execution_count": 3,
   "id": "6f9b576a",
   "metadata": {},
   "outputs": [
    {
     "name": "stdout",
     "output_type": "stream",
     "text": [
      "{2, 5, 7, 8, 9}\n"
     ]
    }
   ],
   "source": [
    "s={2,5,7,8,9,2,2}\n",
    "print(s)"
   ]
  },
  {
   "cell_type": "code",
   "execution_count": 11,
   "id": "a88efa25",
   "metadata": {},
   "outputs": [
    {
     "name": "stdout",
     "output_type": "stream",
     "text": [
      "{False, 1.1, 3, 'prem'}\n"
     ]
    }
   ],
   "source": [
    "info={'prem',3,3,3,1.1,False}\n",
    "print(info)"
   ]
  },
  {
   "cell_type": "code",
   "execution_count": 12,
   "id": "514117fa",
   "metadata": {},
   "outputs": [
    {
     "name": "stdout",
     "output_type": "stream",
     "text": [
      "{1, 2, 3, 4, 5, 6}\n"
     ]
    }
   ],
   "source": [
    "s1={1,2,5,6}\n",
    "s2={3,4,6}\n",
    "#I want a combination of both the sets\n",
    "print(s1.union(s2))"
   ]
  },
  {
   "cell_type": "code",
   "execution_count": 13,
   "id": "b4d74d24",
   "metadata": {},
   "outputs": [
    {
     "name": "stdout",
     "output_type": "stream",
     "text": [
      "{1, 2, 5, 6} {3, 4, 6}\n"
     ]
    }
   ],
   "source": [
    "print(s1,s2)"
   ]
  },
  {
   "cell_type": "code",
   "execution_count": 15,
   "id": "2cbd78b9",
   "metadata": {},
   "outputs": [
    {
     "name": "stdout",
     "output_type": "stream",
     "text": [
      "{1, 2, 3, 4, 5, 6}\n",
      "{1, 2, 3, 4, 5, 6} {3, 4, 6}\n"
     ]
    }
   ],
   "source": [
    "#I want s1 to be updated\n",
    "s1.update(s2)\n",
    "print(s1)\n",
    "print(s1,s2)"
   ]
  },
  {
   "cell_type": "code",
   "execution_count": 16,
   "id": "eeab24a1",
   "metadata": {},
   "outputs": [
    {
     "name": "stdout",
     "output_type": "stream",
     "text": [
      "{3, 4, 6}\n"
     ]
    }
   ],
   "source": [
    "#will print the matching values present in both the sets\n",
    "print(s1.intersection(s2))"
   ]
  },
  {
   "cell_type": "code",
   "execution_count": 17,
   "id": "c9755f5d",
   "metadata": {},
   "outputs": [
    {
     "name": "stdout",
     "output_type": "stream",
     "text": [
      "{1, 2, 5}\n"
     ]
    }
   ],
   "source": [
    "#Will print the distinct values\n",
    "print(s1.symmetric_difference(s2))"
   ]
  },
  {
   "cell_type": "code",
   "execution_count": 18,
   "id": "64d8ccc0",
   "metadata": {},
   "outputs": [
    {
     "name": "stdout",
     "output_type": "stream",
     "text": [
      "False\n"
     ]
    }
   ],
   "source": [
    "print(s1.isdisjoint(s2))\n",
    "#will print true if there are no common elements\n",
    "#will print false if there are any common values in the sets"
   ]
  },
  {
   "cell_type": "code",
   "execution_count": 20,
   "id": "e22ddfdb",
   "metadata": {},
   "outputs": [
    {
     "name": "stdout",
     "output_type": "stream",
     "text": [
      "True\n"
     ]
    }
   ],
   "source": [
    "print(s1.issuperset(s2))\n",
    "#will print true since s1 is the superset of s2"
   ]
  },
  {
   "cell_type": "code",
   "execution_count": 21,
   "id": "e8235cb6",
   "metadata": {},
   "outputs": [
    {
     "name": "stdout",
     "output_type": "stream",
     "text": [
      "False\n"
     ]
    }
   ],
   "source": [
    "print(s1.issubset(s2))"
   ]
  },
  {
   "cell_type": "code",
   "execution_count": 24,
   "id": "8d52f1ce",
   "metadata": {},
   "outputs": [],
   "source": [
    "#If we want to add only one item we can use add()\n",
    "s1.add(99)"
   ]
  },
  {
   "cell_type": "code",
   "execution_count": 25,
   "id": "58241dc1",
   "metadata": {},
   "outputs": [
    {
     "data": {
      "text/plain": [
       "{1, 2, 3, 4, 5, 6, 99}"
      ]
     },
     "execution_count": 25,
     "metadata": {},
     "output_type": "execute_result"
    }
   ],
   "source": [
    "s1"
   ]
  },
  {
   "cell_type": "code",
   "execution_count": 26,
   "id": "95f14932",
   "metadata": {},
   "outputs": [],
   "source": [
    "s1.discard(67)"
   ]
  },
  {
   "cell_type": "code",
   "execution_count": 27,
   "id": "b5e74bc0",
   "metadata": {},
   "outputs": [
    {
     "ename": "KeyError",
     "evalue": "67",
     "output_type": "error",
     "traceback": [
      "\u001b[0;31m---------------------------------------------------------------------------\u001b[0m",
      "\u001b[0;31mKeyError\u001b[0m                                  Traceback (most recent call last)",
      "\u001b[0;32m/var/folders/f2/54rrf37j31nb8823kz1zs5mh0000gn/T/ipykernel_18128/1578642917.py\u001b[0m in \u001b[0;36m<module>\u001b[0;34m\u001b[0m\n\u001b[1;32m      1\u001b[0m \u001b[0;31m#See discard did not throw error\u001b[0m\u001b[0;34m\u001b[0m\u001b[0;34m\u001b[0m\u001b[0m\n\u001b[1;32m      2\u001b[0m \u001b[0;31m#But if we want our program to throw error use remove()\u001b[0m\u001b[0;34m\u001b[0m\u001b[0;34m\u001b[0m\u001b[0m\n\u001b[0;32m----> 3\u001b[0;31m \u001b[0ms1\u001b[0m\u001b[0;34m.\u001b[0m\u001b[0mremove\u001b[0m\u001b[0;34m(\u001b[0m\u001b[0;36m67\u001b[0m\u001b[0;34m)\u001b[0m\u001b[0;34m\u001b[0m\u001b[0;34m\u001b[0m\u001b[0m\n\u001b[0m",
      "\u001b[0;31mKeyError\u001b[0m: 67"
     ]
    }
   ],
   "source": [
    "#See discard did not throw error \n",
    "#But if we want our program to throw error use remove()\n",
    "s1.remove(67)"
   ]
  },
  {
   "cell_type": "code",
   "execution_count": 28,
   "id": "28f15743",
   "metadata": {},
   "outputs": [],
   "source": [
    "s3=s1.pop()"
   ]
  },
  {
   "cell_type": "code",
   "execution_count": 29,
   "id": "8b7de3f5",
   "metadata": {},
   "outputs": [
    {
     "data": {
      "text/plain": [
       "1"
      ]
     },
     "execution_count": 29,
     "metadata": {},
     "output_type": "execute_result"
    }
   ],
   "source": [
    "s3\n"
   ]
  },
  {
   "cell_type": "code",
   "execution_count": 30,
   "id": "cf4bf661",
   "metadata": {},
   "outputs": [
    {
     "data": {
      "text/plain": [
       "{2, 3, 4, 5, 6, 99}"
      ]
     },
     "execution_count": 30,
     "metadata": {},
     "output_type": "execute_result"
    }
   ],
   "source": [
    "s1"
   ]
  },
  {
   "cell_type": "code",
   "execution_count": 31,
   "id": "d7e4ce2b",
   "metadata": {},
   "outputs": [],
   "source": [
    "#see 1 has been popped from s1 and stored in s3"
   ]
  },
  {
   "cell_type": "code",
   "execution_count": 32,
   "id": "b5c0b3d0",
   "metadata": {},
   "outputs": [],
   "source": [
    "#use del to delete an entire set\n",
    "del s3"
   ]
  },
  {
   "cell_type": "code",
   "execution_count": 33,
   "id": "66e7758c",
   "metadata": {},
   "outputs": [
    {
     "ename": "NameError",
     "evalue": "name 's3' is not defined",
     "output_type": "error",
     "traceback": [
      "\u001b[0;31m---------------------------------------------------------------------------\u001b[0m",
      "\u001b[0;31mNameError\u001b[0m                                 Traceback (most recent call last)",
      "\u001b[0;32m/var/folders/f2/54rrf37j31nb8823kz1zs5mh0000gn/T/ipykernel_18128/1752680493.py\u001b[0m in \u001b[0;36m<module>\u001b[0;34m\u001b[0m\n\u001b[0;32m----> 1\u001b[0;31m \u001b[0mprint\u001b[0m\u001b[0;34m(\u001b[0m\u001b[0ms3\u001b[0m\u001b[0;34m)\u001b[0m\u001b[0;34m\u001b[0m\u001b[0;34m\u001b[0m\u001b[0m\n\u001b[0m",
      "\u001b[0;31mNameError\u001b[0m: name 's3' is not defined"
     ]
    }
   ],
   "source": [
    "print(s3)"
   ]
  },
  {
   "cell_type": "code",
   "execution_count": 34,
   "id": "e44e2082",
   "metadata": {},
   "outputs": [],
   "source": [
    "#clear() will not delete the entire set but only remove the items inside it"
   ]
  }
 ],
 "metadata": {
  "kernelspec": {
   "display_name": "Python 3 (ipykernel)",
   "language": "python",
   "name": "python3"
  },
  "language_info": {
   "codemirror_mode": {
    "name": "ipython",
    "version": 3
   },
   "file_extension": ".py",
   "mimetype": "text/x-python",
   "name": "python",
   "nbconvert_exporter": "python",
   "pygments_lexer": "ipython3",
   "version": "3.9.7"
  }
 },
 "nbformat": 4,
 "nbformat_minor": 5
}
