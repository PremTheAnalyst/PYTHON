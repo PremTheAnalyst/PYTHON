{
 "cells": [
  {
   "cell_type": "markdown",
   "id": "43384b43",
   "metadata": {},
   "source": [
    "# Tuples"
   ]
  },
  {
   "cell_type": "code",
   "execution_count": 1,
   "id": "2ec28d53",
   "metadata": {},
   "outputs": [],
   "source": [
    "#Tuples are immutable, we cannot change values inside a tuple"
   ]
  },
  {
   "cell_type": "code",
   "execution_count": 2,
   "id": "dd88ceab",
   "metadata": {},
   "outputs": [],
   "source": [
    "tup=(1,2,3,44,55,90)"
   ]
  },
  {
   "cell_type": "code",
   "execution_count": 3,
   "id": "82f62608",
   "metadata": {},
   "outputs": [
    {
     "data": {
      "text/plain": [
       "tuple"
      ]
     },
     "execution_count": 3,
     "metadata": {},
     "output_type": "execute_result"
    }
   ],
   "source": [
    "type(tup)"
   ]
  },
  {
   "cell_type": "code",
   "execution_count": 4,
   "id": "4d5ddff1",
   "metadata": {},
   "outputs": [
    {
     "data": {
      "text/plain": [
       "1"
      ]
     },
     "execution_count": 4,
     "metadata": {},
     "output_type": "execute_result"
    }
   ],
   "source": [
    "tup[0]"
   ]
  },
  {
   "cell_type": "code",
   "execution_count": 5,
   "id": "4b31d8aa",
   "metadata": {},
   "outputs": [
    {
     "ename": "TypeError",
     "evalue": "'tuple' object does not support item assignment",
     "output_type": "error",
     "traceback": [
      "\u001b[0;31m---------------------------------------------------------------------------\u001b[0m",
      "\u001b[0;31mTypeError\u001b[0m                                 Traceback (most recent call last)",
      "\u001b[0;32m/var/folders/f2/54rrf37j31nb8823kz1zs5mh0000gn/T/ipykernel_5905/573601315.py\u001b[0m in \u001b[0;36m<module>\u001b[0;34m\u001b[0m\n\u001b[0;32m----> 1\u001b[0;31m \u001b[0mtup\u001b[0m\u001b[0;34m[\u001b[0m\u001b[0;36m0\u001b[0m\u001b[0;34m]\u001b[0m\u001b[0;34m=\u001b[0m\u001b[0;36m1\u001b[0m\u001b[0;34m\u001b[0m\u001b[0;34m\u001b[0m\u001b[0m\n\u001b[0m",
      "\u001b[0;31mTypeError\u001b[0m: 'tuple' object does not support item assignment"
     ]
    }
   ],
   "source": [
    "tup[0]=1"
   ]
  },
  {
   "cell_type": "code",
   "execution_count": 6,
   "id": "525a6287",
   "metadata": {},
   "outputs": [
    {
     "data": {
      "text/plain": [
       "90"
      ]
     },
     "execution_count": 6,
     "metadata": {},
     "output_type": "execute_result"
    }
   ],
   "source": [
    "tup[-1]"
   ]
  },
  {
   "cell_type": "code",
   "execution_count": 7,
   "id": "48ac4a7b",
   "metadata": {},
   "outputs": [
    {
     "name": "stdout",
     "output_type": "stream",
     "text": [
      "90\n"
     ]
    }
   ],
   "source": [
    "print(tup[-1])"
   ]
  },
  {
   "cell_type": "code",
   "execution_count": 8,
   "id": "ba8f920d",
   "metadata": {},
   "outputs": [],
   "source": [
    "#both are same"
   ]
  },
  {
   "cell_type": "code",
   "execution_count": 9,
   "id": "24dfd413",
   "metadata": {},
   "outputs": [],
   "source": [
    "#OPERATIONS IN TUPLES"
   ]
  },
  {
   "cell_type": "code",
   "execution_count": 11,
   "id": "0ef43ad8",
   "metadata": {},
   "outputs": [],
   "source": [
    "#if we want to make changes in tuple\n",
    "#Then first convert the tuple inot a list\n",
    "#Make changes in list and then convert back to tuple"
   ]
  },
  {
   "cell_type": "code",
   "execution_count": 12,
   "id": "a6f957c5",
   "metadata": {},
   "outputs": [],
   "source": [
    "ct1=(\"india\",\"usa\",\"russia\")\n",
    "ct2=(\"myanmar\",\"bangladesh\")\n",
    "ct3=ct1+ct2\n"
   ]
  },
  {
   "cell_type": "code",
   "execution_count": 13,
   "id": "774c44a8",
   "metadata": {},
   "outputs": [
    {
     "data": {
      "text/plain": [
       "('india', 'usa', 'russia', 'myanmar', 'bangladesh')"
      ]
     },
     "execution_count": 13,
     "metadata": {},
     "output_type": "execute_result"
    }
   ],
   "source": [
    "ct3"
   ]
  },
  {
   "cell_type": "code",
   "execution_count": 14,
   "id": "0ee21253",
   "metadata": {},
   "outputs": [
    {
     "data": {
      "text/plain": [
       "tuple"
      ]
     },
     "execution_count": 14,
     "metadata": {},
     "output_type": "execute_result"
    }
   ],
   "source": [
    "type(ct3)"
   ]
  },
  {
   "cell_type": "code",
   "execution_count": 15,
   "id": "a5d1ba43",
   "metadata": {},
   "outputs": [],
   "source": [
    "t1=(1,1,1,1,4,4,5,6,7,8,8,8,8,8,8,8,8)"
   ]
  },
  {
   "cell_type": "code",
   "execution_count": 17,
   "id": "0995276a",
   "metadata": {},
   "outputs": [
    {
     "data": {
      "text/plain": [
       "4"
      ]
     },
     "execution_count": 17,
     "metadata": {},
     "output_type": "execute_result"
    }
   ],
   "source": [
    "t1.count(1)"
   ]
  },
  {
   "cell_type": "code",
   "execution_count": 18,
   "id": "30fc393c",
   "metadata": {},
   "outputs": [
    {
     "data": {
      "text/plain": [
       "8"
      ]
     },
     "execution_count": 18,
     "metadata": {},
     "output_type": "execute_result"
    }
   ],
   "source": [
    "t1.count(8)"
   ]
  },
  {
   "cell_type": "code",
   "execution_count": null,
   "id": "83cec084",
   "metadata": {},
   "outputs": [],
   "source": []
  }
 ],
 "metadata": {
  "kernelspec": {
   "display_name": "Python 3 (ipykernel)",
   "language": "python",
   "name": "python3"
  },
  "language_info": {
   "codemirror_mode": {
    "name": "ipython",
    "version": 3
   },
   "file_extension": ".py",
   "mimetype": "text/x-python",
   "name": "python",
   "nbconvert_exporter": "python",
   "pygments_lexer": "ipython3",
   "version": "3.9.7"
  }
 },
 "nbformat": 4,
 "nbformat_minor": 5
}
